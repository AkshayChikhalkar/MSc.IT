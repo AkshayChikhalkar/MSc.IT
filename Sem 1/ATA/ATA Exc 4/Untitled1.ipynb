{
 "cells": [
  {
   "cell_type": "code",
   "execution_count": 1,
   "id": "2fa9f72b",
   "metadata": {},
   "outputs": [
    {
     "ename": "ModuleNotFoundError",
     "evalue": "No module named 'pm4py'",
     "output_type": "error",
     "traceback": [
      "\u001b[0;31m---------------------------------------------------------------------------\u001b[0m",
      "\u001b[0;31mModuleNotFoundError\u001b[0m                       Traceback (most recent call last)",
      "\u001b[0;32m/var/folders/pp/2d3gdlgx7dg65zxm88zcgk580000gn/T/ipykernel_49966/2251581011.py\u001b[0m in \u001b[0;36m<module>\u001b[0;34m\u001b[0m\n\u001b[1;32m      5\u001b[0m \u001b[0mos\u001b[0m\u001b[0;34m.\u001b[0m\u001b[0menviron\u001b[0m\u001b[0;34m[\u001b[0m\u001b[0;34m'PATH'\u001b[0m\u001b[0;34m]\u001b[0m \u001b[0;34m=\u001b[0m \u001b[0mos\u001b[0m\u001b[0;34m.\u001b[0m\u001b[0menviron\u001b[0m\u001b[0;34m[\u001b[0m\u001b[0;34m'PATH'\u001b[0m\u001b[0;34m]\u001b[0m\u001b[0;34m+\u001b[0m\u001b[0;34m';'\u001b[0m\u001b[0;34m+\u001b[0m\u001b[0mos\u001b[0m\u001b[0;34m.\u001b[0m\u001b[0menviron\u001b[0m\u001b[0;34m[\u001b[0m\u001b[0;34m'CONDA_PREFIX'\u001b[0m\u001b[0;34m]\u001b[0m\u001b[0;34m+\u001b[0m\u001b[0;34mr\"\\Library\\bin\\graphviz\"\u001b[0m\u001b[0;34m\u001b[0m\u001b[0;34m\u001b[0m\u001b[0m\n\u001b[1;32m      6\u001b[0m \u001b[0;34m\u001b[0m\u001b[0m\n\u001b[0;32m----> 7\u001b[0;31m \u001b[0;32mimport\u001b[0m \u001b[0mpm4py\u001b[0m\u001b[0;34m\u001b[0m\u001b[0;34m\u001b[0m\u001b[0m\n\u001b[0m\u001b[1;32m      8\u001b[0m \u001b[0;32mimport\u001b[0m \u001b[0mpandas\u001b[0m \u001b[0;32mas\u001b[0m \u001b[0mpd\u001b[0m\u001b[0;34m\u001b[0m\u001b[0;34m\u001b[0m\u001b[0m\n\u001b[1;32m      9\u001b[0m \u001b[0;32mfrom\u001b[0m \u001b[0mpm4py\u001b[0m\u001b[0;34m.\u001b[0m\u001b[0malgo\u001b[0m\u001b[0;34m.\u001b[0m\u001b[0mdiscovery\u001b[0m\u001b[0;34m.\u001b[0m\u001b[0malpha\u001b[0m \u001b[0;32mimport\u001b[0m \u001b[0malgorithm\u001b[0m \u001b[0;32mas\u001b[0m \u001b[0malpha_miner\u001b[0m\u001b[0;34m\u001b[0m\u001b[0;34m\u001b[0m\u001b[0m\n",
      "\u001b[0;31mModuleNotFoundError\u001b[0m: No module named 'pm4py'"
     ]
    }
   ],
   "source": [
    "#%%\n",
    "# conda install graphviz\n",
    "\n",
    "import os\n",
    "os.environ['PATH'] = os.environ['PATH']+';'+os.environ['CONDA_PREFIX']+r\"\\Library\\bin\\graphviz\"\n",
    "\n",
    "import pm4py\n",
    "import pandas as pd\n",
    "from pm4py.algo.discovery.alpha import algorithm as alpha_miner\n",
    "from pm4py.algo.discovery.heuristics import algorithm as heurist_miner\n",
    "from pm4py.algo.discovery.inductive import algorithm as inductive_miner\n",
    "from pm4py.algo.simulation.playout.petri_net import algorithm as simulator\n",
    "from pm4py.objects.conversion.log import converter as log_converter\n",
    "from pm4py.visualization.petri_net import visualizer as pn_vis\n",
    "from pm4py.algo.evaluation.replay_fitness import algorithm as replay_fitness_evaluator\n",
    "from pm4py.algo.evaluation.precision import algorithm as precision_evaluator\n",
    "from pm4py.algo.evaluation.generalization import algorithm as generalization_evaluator\n",
    "from pm4py.algo.evaluation.simplicity import algorithm as simplicity_evaluator\n",
    "from shutil import copyfile\n",
    "from IPython.display import SVG, display\n",
    "\n",
    "def meta(event_log, pn, i, f):\n",
    "    print(\"Replay Fitness (TOKEN_BASED): \", replay_fitness_evaluator.apply(event_log, pn, i, f, variant=replay_fitness_evaluator.Variants.TOKEN_BASED))\n",
    "    print(\"Replay Fitness (ALIGNMENT_BASED): \", replay_fitness_evaluator.apply(event_log, pn, i, f, variant=replay_fitness_evaluator.Variants.ALIGNMENT_BASED))\n",
    "    print(\"Precision (ETCONFORMANCE_TOKEN): \", precision_evaluator.apply(event_log, pn, i, f, variant=precision_evaluator.Variants.ETCONFORMANCE_TOKEN))\n",
    "    print(\"Precision (ALIGN_ETCONFORMANCE): \", precision_evaluator.apply(event_log, pn, i, f, variant=precision_evaluator.Variants.ALIGN_ETCONFORMANCE))\n",
    "    print(\"Generalization: \", generalization_evaluator.apply(event_log, pn, i, f))\n",
    "    print(\"Simplicity: \", simplicity_evaluator.apply(pn))\n",
    "\n",
    "def display_pn(pn, i, f, name):\n",
    "    gviz = pn_vis.apply(pn, i, f, parameters={pn_vis.Variants.WO_DECORATION.value.Parameters.FORMAT: \"svg\", pn_vis.Variants.WO_DECORATION.value.Parameters.DEBUG: False})\n",
    "    f = gviz.render()\n",
    "    copyfile(f, name + \".svg\")\n",
    "    display(SVG(f))\n",
    "\n",
    "def load_csv(name):\n",
    "    e = pd.read_csv(name, sep=';')\n",
    "    e = pm4py.format_dataframe(e, case_id=\"case_id\", activity_key=\"activity\", timestamp_key=\"timestamp\")\n",
    "    return e\n",
    "\n",
    "def am(event_log):\n",
    "    pn, i, f = alpha_miner.apply(event_log)\n",
    "    display_pn(pn, i, f, \"alpha\")\n",
    "    return pn, i, f\n",
    "\n",
    "def hm(event_log):\n",
    "    pn, i, f = heurist_miner.apply(event_log)\n",
    "    display_pn(pn, i, f, \"heurist\")\n",
    "    return pn, i, f\n",
    "\n",
    "def im(event_log):\n",
    "    pn, i, f = inductive_miner.apply(event_log)\n",
    "    display_pn(pn, i, f, \"inductive\")\n",
    "    return pn, i, f\n",
    "\n",
    "event_log = load_csv(\"coffee.csv\")\n",
    "am(event_log)\n",
    "hm(event_log)\n",
    "im(event_log)\n"
   ]
  },
  {
   "cell_type": "code",
   "execution_count": null,
   "id": "27bf705d",
   "metadata": {},
   "outputs": [],
   "source": []
  }
 ],
 "metadata": {
  "kernelspec": {
   "display_name": "Python 3 (ipykernel)",
   "language": "python",
   "name": "python3"
  },
  "language_info": {
   "codemirror_mode": {
    "name": "ipython",
    "version": 3
   },
   "file_extension": ".py",
   "mimetype": "text/x-python",
   "name": "python",
   "nbconvert_exporter": "python",
   "pygments_lexer": "ipython3",
   "version": "3.9.13"
  }
 },
 "nbformat": 4,
 "nbformat_minor": 5
}
